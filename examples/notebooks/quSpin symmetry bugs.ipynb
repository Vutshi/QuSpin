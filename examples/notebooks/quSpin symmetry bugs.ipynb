{
 "cells": [
  {
   "cell_type": "code",
   "execution_count": 1,
   "metadata": {},
   "outputs": [],
   "source": [
    "%matplotlib inline\n",
    "%config InlineBackend.figure_formats = ['retina']#['svg']\n",
    "import matplotlib.pyplot as plt\n",
    "# from qutip import *\n",
    "import numpy as np\n",
    "\n",
    "from quspin.operators import hamiltonian # Hamiltonians and operators\n",
    "from quspin.basis import spin_basis_1d, spinless_fermion_basis_1d, basis_1d # Hilbert space spin basis"
   ]
  },
  {
   "cell_type": "markdown",
   "metadata": {},
   "source": [
    "# spin bugs"
   ]
  },
  {
   "cell_type": "code",
   "execution_count": 24,
   "metadata": {},
   "outputs": [],
   "source": [
    "# spin bugs\n",
    "L=3\n",
    "basis_spin = spin_basis_1d(L=L)\n",
    "basis_spin_zblock = spin_basis_1d(L=L, zblock=1)\n",
    "dynamic_spin = []\n",
    "static_spin_aa = [[[\"+-\",[[1.0,0,2]]]]]\n",
    "static_spin_aa += [[[\"-+\",[[1.0,0,2]]]]]\n",
    "\n",
    "aa_spin = [hamiltonian(aa_op,dynamic_spin,basis=basis_spin,\n",
    "                        check_pcon=False,check_symm=False,check_herm=False)\n",
    "           for aa_op in static_spin_aa]\n",
    "aa_spin_zblock = [hamiltonian(aa_op,dynamic_spin,basis=basis_spin_zblock,\n",
    "                        check_pcon=False,check_symm=False,check_herm=False)\n",
    "           for aa_op in static_spin_aa]"
   ]
  },
  {
   "cell_type": "markdown",
   "metadata": {},
   "source": [
    "Without symmetry \"+-\" is transposed of \"-+\""
   ]
  },
  {
   "cell_type": "code",
   "execution_count": 25,
   "metadata": {},
   "outputs": [
    {
     "data": {
      "text/plain": [
       "<8x8 sparse matrix of type '<class 'numpy.complex128'>'\n",
       "\twith 0 stored elements in Compressed Sparse Row format>"
      ]
     },
     "execution_count": 25,
     "metadata": {},
     "output_type": "execute_result"
    }
   ],
   "source": [
    "aa_spin[1].static - aa_spin[0].static.T"
   ]
  },
  {
   "cell_type": "markdown",
   "metadata": {},
   "source": [
    "With symmetry \"+-\" is brocken"
   ]
  },
  {
   "cell_type": "code",
   "execution_count": 26,
   "metadata": {},
   "outputs": [
    {
     "data": {
      "text/plain": [
       "<4x4 sparse matrix of type '<class 'numpy.complex128'>'\n",
       "\twith 2 stored elements in Compressed Sparse Row format>"
      ]
     },
     "execution_count": 26,
     "metadata": {},
     "output_type": "execute_result"
    }
   ],
   "source": [
    "aa_spin_zblock[1].static - aa_spin_zblock[0].static.T"
   ]
  },
  {
   "cell_type": "markdown",
   "metadata": {},
   "source": [
    "It is actually zero:"
   ]
  },
  {
   "cell_type": "code",
   "execution_count": 27,
   "metadata": {},
   "outputs": [
    {
     "data": {
      "text/plain": [
       "<4x4 sparse matrix of type '<class 'numpy.complex128'>'\n",
       "\twith 0 stored elements in Compressed Sparse Row format>"
      ]
     },
     "execution_count": 27,
     "metadata": {},
     "output_type": "execute_result"
    }
   ],
   "source": [
    "aa_spin_zblock[0].static"
   ]
  },
  {
   "cell_type": "markdown",
   "metadata": {},
   "source": [
    "Additionally \"+\" and \"-\" are defined with extra factor of 2:"
   ]
  },
  {
   "cell_type": "code",
   "execution_count": 28,
   "metadata": {},
   "outputs": [
    {
     "data": {
      "text/plain": [
       "array([[0., 0., 0., 0., 0., 0., 0., 0.],\n",
       "       [0., 0., 0., 0., 4., 0., 0., 0.],\n",
       "       [0., 0., 0., 0., 0., 0., 0., 0.],\n",
       "       [0., 0., 0., 0., 0., 0., 4., 0.],\n",
       "       [0., 0., 0., 0., 0., 0., 0., 0.],\n",
       "       [0., 0., 0., 0., 0., 0., 0., 0.],\n",
       "       [0., 0., 0., 0., 0., 0., 0., 0.],\n",
       "       [0., 0., 0., 0., 0., 0., 0., 0.]])"
      ]
     },
     "execution_count": 28,
     "metadata": {},
     "output_type": "execute_result"
    }
   ],
   "source": [
    "aa_spin[0].static.toarray().real"
   ]
  },
  {
   "cell_type": "markdown",
   "metadata": {},
   "source": [
    "# Fermion bug"
   ]
  },
  {
   "cell_type": "code",
   "execution_count": 94,
   "metadata": {},
   "outputs": [
    {
     "name": "stdout",
     "output_type": "stream",
     "text": [
      "Hermiticity check passed!\n",
      "Hermiticity check passed!\n"
     ]
    }
   ],
   "source": [
    "##### define model parameters #####\n",
    "\n",
    "L=3 # system size\n",
    "J=1.0 # spin zz interaction\n",
    "\n",
    "\n",
    "# zblock,PBC = (-1,1)\n",
    "zblock,PBC = (1,-1)\n",
    "\n",
    "ener_list = []\n",
    "\n",
    "##### define fermion model\n",
    "# define site-coupling lists for external field\n",
    "h_pot=[[2.0,i] for i in range(L)]\n",
    "\n",
    "if PBC==1: # periodic BC: odd particle number subspace only\n",
    "    J_pm=[[-J,i,(i+1)%L] for i in range(L)] # PBC\n",
    "    J_mp=[[+J,i,(i+1)%L] for i in range(L)] # PBC\n",
    "    J_pp=[[-J,i,(i+1)%L] for i in range(L)] # PBC\n",
    "    J_mm=[[+J,i,(i+1)%L] for i in range(L)] # PBC\n",
    "    # construct fermion basis in the odd particle number subsector\n",
    "    basis_fermion = spinless_fermion_basis_1d(L=L)#,Nf=range(1,L+1,2))\n",
    "elif PBC==-1: # anti-periodic BC: even particle number subspace only\n",
    "    # define bulk site coupling lists\n",
    "    J_pm=[[-J,i,i+1] for i in range(L-1)]\n",
    "    J_mp=[[+J,i,i+1] for i in range(L-1)]\n",
    "    J_pp=[[-J,i,i+1] for i in range(L-1)]\n",
    "    J_mm=[[+J,i,i+1] for i in range(L-1)]\n",
    "    # add boundary coupling between sites (L-1,0)\n",
    "    J_pm.append([+J,L-1,0]) # APBC\n",
    "    J_mp.append([-J,L-1,0]) # APBC\n",
    "    J_pp.append([+J,L-1,0]) # APBC\n",
    "    J_mm.append([-J,L-1,0]) # APBC\n",
    "     # construct fermion basis in the even particle number subsector\n",
    "    basis_fermion = spinless_fermion_basis_1d(L = L)#, kblock=0)#, Nf=range(0,L+1,2), kblock=0)\n",
    "    basis_fermion_kblock = spinless_fermion_basis_1d(L = L, kblock=0)\n",
    "\n",
    " # define fermionic static and dynamic lists\n",
    "static_fermion =[[\"+-\",J_pm],[\"-+\",J_mp],[\"++\",J_pp],[\"--\",J_mm]]\n",
    "static_fermion_x = [[\"z\",h_pot]]\n",
    "\n",
    "static_fermion_aa = [[[\"+-\",[[1.0,0,2]]]]]\n",
    "static_fermion_aa += [[[\"+-\",[[1.0,2,0]]]]]\n",
    "static_fermion_aa += [[[\"++\",[[1.0,0,2]]]]]\n",
    "static_fermion_aa += [[[\"--\",[[1.0,2,0]]]]]\n",
    "\n",
    "dynamic_fermion=[]\n",
    "# build fermionic Hamiltonian\n",
    "H_fermion_zz = hamiltonian(static_fermion,dynamic_fermion,basis=basis_fermion,\n",
    "                        check_pcon=False,check_symm=False, dtype=np.float64)\n",
    "H_fermion_zz_kblock = hamiltonian(static_fermion,dynamic_fermion,basis=basis_fermion_kblock,\n",
    "                        check_pcon=False,check_symm=False, dtype=np.float64)\n",
    "\n",
    "aaaa_ferm = hamiltonian(static_fermion_aaaa,dynamic_fermion,basis=basis_fermion,\n",
    "                        check_pcon=False,check_symm=False,check_herm=False)\n",
    "aaaa_ferm_kblock = hamiltonian(static_fermion_aaaa,dynamic_fermion,basis=basis_fermion_kblock,\n",
    "                        check_pcon=False,check_symm=False,check_herm=False)\n",
    "aa_ferm = [hamiltonian(a_op,dynamic_fermion,basis=basis_fermion,\n",
    "                        check_pcon=False,check_symm=False,check_herm=False) \n",
    "           for a_op in static_fermion_aa]\n",
    "aa_ferm_kblock = [hamiltonian(a_op,dynamic_fermion,basis=basis_fermion_kblock,\n",
    "                        check_pcon=False,check_symm=False,check_herm=False) \n",
    "           for a_op in static_fermion_aa]"
   ]
  },
  {
   "cell_type": "code",
   "execution_count": 95,
   "metadata": {},
   "outputs": [
    {
     "data": {
      "text/plain": [
       "<8x8 sparse matrix of type '<class 'numpy.float64'>'\n",
       "\twith 0 stored elements in Compressed Sparse Row format>"
      ]
     },
     "execution_count": 95,
     "metadata": {},
     "output_type": "execute_result"
    }
   ],
   "source": [
    "H_fermion_zz.static - H_fermion_zz.static.T"
   ]
  },
  {
   "cell_type": "markdown",
   "metadata": {},
   "source": [
    "kblock breaks hamiltonian"
   ]
  },
  {
   "cell_type": "code",
   "execution_count": 96,
   "metadata": {},
   "outputs": [
    {
     "data": {
      "text/plain": [
       "<4x4 sparse matrix of type '<class 'numpy.float64'>'\n",
       "\twith 4 stored elements in Compressed Sparse Row format>"
      ]
     },
     "execution_count": 96,
     "metadata": {},
     "output_type": "execute_result"
    }
   ],
   "source": [
    "H_fermion_zz_kblock.static - H_fermion_zz_kblock.static.T"
   ]
  },
  {
   "cell_type": "code",
   "execution_count": 97,
   "metadata": {},
   "outputs": [
    {
     "data": {
      "text/plain": [
       "array([[0.        , 0.        , 1.73205081, 0.        ],\n",
       "       [0.        , 0.        , 0.        , 0.57735027],\n",
       "       [0.57735027, 0.        , 0.        , 0.        ],\n",
       "       [0.        , 1.73205081, 0.        , 0.        ]])"
      ]
     },
     "execution_count": 97,
     "metadata": {},
     "output_type": "execute_result"
    }
   ],
   "source": [
    "H_fermion_zz_kblock.static.toarray()"
   ]
  },
  {
   "cell_type": "markdown",
   "metadata": {},
   "source": [
    "Correlator without symmetry works"
   ]
  },
  {
   "cell_type": "code",
   "execution_count": 98,
   "metadata": {},
   "outputs": [
    {
     "data": {
      "text/plain": [
       "<8x8 sparse matrix of type '<class 'numpy.complex128'>'\n",
       "\twith 0 stored elements in Compressed Sparse Row format>"
      ]
     },
     "execution_count": 98,
     "metadata": {},
     "output_type": "execute_result"
    }
   ],
   "source": [
    "aa_ferm[0].static - aa_ferm[1].static.T"
   ]
  },
  {
   "cell_type": "code",
   "execution_count": 99,
   "metadata": {},
   "outputs": [
    {
     "data": {
      "text/plain": [
       "<8x8 sparse matrix of type '<class 'numpy.complex128'>'\n",
       "\twith 0 stored elements in Compressed Sparse Row format>"
      ]
     },
     "execution_count": 99,
     "metadata": {},
     "output_type": "execute_result"
    }
   ],
   "source": [
    "aa_ferm[2].static - aa_ferm[3].static.T"
   ]
  },
  {
   "cell_type": "markdown",
   "metadata": {},
   "source": [
    "With kblock it is broken"
   ]
  },
  {
   "cell_type": "code",
   "execution_count": 100,
   "metadata": {},
   "outputs": [
    {
     "data": {
      "text/plain": [
       "<4x4 sparse matrix of type '<class 'numpy.complex128'>'\n",
       "\twith 2 stored elements in Compressed Sparse Row format>"
      ]
     },
     "execution_count": 100,
     "metadata": {},
     "output_type": "execute_result"
    }
   ],
   "source": [
    "aa_ferm_kblock[0].static - aa_ferm_kblock[1].static.T"
   ]
  },
  {
   "cell_type": "code",
   "execution_count": 101,
   "metadata": {},
   "outputs": [
    {
     "data": {
      "text/plain": [
       "<4x4 sparse matrix of type '<class 'numpy.complex128'>'\n",
       "\twith 2 stored elements in Compressed Sparse Row format>"
      ]
     },
     "execution_count": 101,
     "metadata": {},
     "output_type": "execute_result"
    }
   ],
   "source": [
    "aa_ferm_kblock[2].static - aa_ferm_kblock[3].static.T"
   ]
  },
  {
   "cell_type": "code",
   "execution_count": null,
   "metadata": {},
   "outputs": [],
   "source": []
  }
 ],
 "metadata": {
  "kernelspec": {
   "display_name": "Python 3",
   "language": "python",
   "name": "python3"
  },
  "language_info": {
   "codemirror_mode": {
    "name": "ipython",
    "version": 3
   },
   "file_extension": ".py",
   "mimetype": "text/x-python",
   "name": "python",
   "nbconvert_exporter": "python",
   "pygments_lexer": "ipython3",
   "version": "3.6.5"
  }
 },
 "nbformat": 4,
 "nbformat_minor": 2
}
